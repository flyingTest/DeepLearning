{
 "cells": [
  {
   "cell_type": "markdown",
   "metadata": {},
   "source": [
    "前排定义一下训练参数"
   ]
  },
  {
   "cell_type": "code",
   "execution_count": 1,
   "metadata": {},
   "outputs": [],
   "source": [
    "import os\n",
    "# 训练循环次数\n",
    "num_epochs = 1\n",
    "\n",
    "# batch大小\n",
    "batch_size = 256\n",
    "\n",
    "# lstm层中包含的unit个数\n",
    "rnn_size = 256\n",
    "\n",
    "# lstm层数\n",
    "num_layers = 3\n",
    "\n",
    "# embedding layer的大小\n",
    "embed_dim = 300\n",
    "\n",
    "# 训练步长\n",
    "seq_length = 30\n",
    "\n",
    "# 学习率\n",
    "learning_rate = 0.001\n",
    "\n",
    "#dropout keep\n",
    "output_keep_prob = 0.8\n",
    "input_keep_prob = 1.0\n",
    "\n",
    "# 优化器\n",
    "grad_clip = 5.\n",
    "\n",
    "decay_rate = 0.97\n",
    "init_from = None\n",
    "save_every = 1000\n",
    "# 保存模型\n",
    "save_dir = './save'\n",
    "if not os.path.isdir(save_dir):\n",
    "    os.makedirs(save_dir)\n",
    "    \n",
    "# 保存logs   \n",
    "log_dir = './logs'\n",
    "if not os.path.isdir(log_dir):\n",
    "    os.makedirs(log_dir)\n",
    "\n",
    "# 保存数据和词汇\n",
    "data_dir = './temp'\n",
    "if not os.path.isdir(data_dir):\n",
    "    os.makedirs(data_dir)\n",
    "    \n",
    "input_file = os.path.join(data_dir, \"爵迹I II.txt\")\n",
    "vocab_file = os.path.join(data_dir, \"vocab.pkl\")\n",
    "tensor_file = os.path.join(data_dir, \"data.npy\")\n",
    "_file = os.path.join(save_dir, 'chars_vocab.pkl')"
   ]
  },
  {
   "cell_type": "markdown",
   "metadata": {},
   "source": [
    "首先加载数据集 <p>\n",
    "使用到的是**`爵迹`**这本小说<p>\n",
    "无论小说和电影都能给人很深刻的印象...."
   ]
  },
  {
   "cell_type": "code",
   "execution_count": 2,
   "metadata": {},
   "outputs": [],
   "source": [
    "with open(input_file, 'r',encoding = 'gbk') as f:\n",
    "        text = f.read()"
   ]
  },
  {
   "cell_type": "markdown",
   "metadata": {},
   "source": [
    "**预览一下部分内容<p>**\n",
    "果然一股东方神话、字里行间透露出45度角仰望天空的忧伤气息扑面而来<p>"
   ]
  },
  {
   "cell_type": "code",
   "execution_count": 3,
   "metadata": {},
   "outputs": [
    {
     "data": {
      "text/plain": [
       "'而来？传说中至高无上的【白银祭司】又掌握着怎样的真相？这场旷世之战，究竟要将主角的命运引向王者的宝座，还是惨烈的死亡？\\n\\n    \\n\\n    序章  神遇\\n\\n    \\n\\n    漫天翻滚的碎雪，仿佛巨兽抖落的白色绒毛，纷纷扬扬地遮蔽着视线。\\n\\n    这块大陆的冬天已经来临。\\n\\n    南方只是开始不易察觉地降温，凌晨的时候窗棂上会看见霜花，但是在这里——大陆接近极北的尽头，已经是一望无际的苍茫肃杀。大块大块浮动在海面上的冰山彼此不时地撞击着，在天地间发出巨大的锐利轰鸣声，坍塌的冰块砸进大海，掀起白色的浪涛。辽阔的黑色冻土在接连几天的大雪之后，变成了一片茫茫的雪原。这已经是深北之地了，连绵不断'"
      ]
     },
     "execution_count": 3,
     "metadata": {},
     "output_type": "execute_result"
    }
   ],
   "source": [
    "text[500:800]"
   ]
  },
  {
   "cell_type": "markdown",
   "metadata": {},
   "source": [
    "* 做一些数据预处理，去掉一写无关的字符和空格，去掉书籍前几行没用的介绍"
   ]
  },
  {
   "cell_type": "code",
   "execution_count": 4,
   "metadata": {},
   "outputs": [],
   "source": [
    "import re\n",
    "pattern = re.compile('\\[.*\\]|<.*>|\\.+|【|】| +|\\\\r|\\\\n')\n",
    "text = pattern.sub('', text.strip()) "
   ]
  },
  {
   "cell_type": "code",
   "execution_count": 5,
   "metadata": {},
   "outputs": [
    {
     "data": {
      "text/plain": [
       "'巨兽抖落的白色绒毛，纷纷扬扬地遮蔽着视线。这块大陆的冬天已经来临。南方只是开始不易察觉地降温，凌晨的时候窗棂上会看见霜花，但是在这里——大陆接近极北的尽头，已经是一望无际的苍茫肃杀。大块大块浮动在海面上的冰山彼此不时地撞击着，在天地间发出巨大的锐利轰鸣声，坍塌的冰块砸进大海，掀起白色的浪涛。辽阔的黑色冻土在接连几天的大雪之后，变成了一片茫茫的雪原。这已经是深北之地了，连绵不断的冰川仿佛怪兽的利齿般将天地的尽头紧紧咬在一起，地平线消失在刺眼的白色冰面之下。天空被厚重的云层遮挡，光线仿佛蒙着一层尘埃，混沌地洒向大地。混沌的风雪在空旷的天地间吹出一阵又一阵仿佛狼嗥般的凄厉声响。拳头大小的纷乱大雪里，'"
      ]
     },
     "execution_count": 5,
     "metadata": {},
     "output_type": "execute_result"
    }
   ],
   "source": [
    "text[500:800]"
   ]
  },
  {
   "cell_type": "markdown",
   "metadata": {},
   "source": [
    "####  感觉预处理后效果还可以.没那么乱了，开始做词映射\n",
    "1. 首先做词频统计，再降序排序，因为用的是char级的所以这一步是没什么必要的，统计有多少个汉字和字符，其实可以用``chars=set(text)``代替\n",
    "2. 将统计结果作为语料库，存入本地pkl文件中，方便调用"
   ]
  },
  {
   "cell_type": "code",
   "execution_count": 6,
   "metadata": {},
   "outputs": [],
   "source": [
    "import collections\n",
    "from six.moves import cPickle\n",
    "counter = collections.Counter(text)\n",
    "counter = sorted(counter.items(), key=lambda x: -x[1])\n",
    "chars, _  = zip(*counter)\n",
    "with open(vocab_file, 'wb') as f:\n",
    "    cPickle.dump(chars, f)"
   ]
  },
  {
   "cell_type": "markdown",
   "metadata": {},
   "source": [
    "对词汇表字符(包括\\n哦)做一个数字索引，并用这个数字索引来代替这个汉字<p>\n",
    "保存字词映射表"
   ]
  },
  {
   "cell_type": "code",
   "execution_count": 7,
   "metadata": {},
   "outputs": [],
   "source": [
    "vocab_size = len(chars)\n",
    "vocab = dict(zip(chars, range(vocab_size)))\n",
    "with open(_file, 'wb') as f:\n",
    "    cPickle.dump((chars, vocab), f)"
   ]
  },
  {
   "cell_type": "markdown",
   "metadata": {},
   "source": [
    "1. 将整本书的内容，做一下 汉字/字符  - 数字 的变化。\n",
    "2. 这样原来的一本书变可以用一个由N个数字组成的列表表示了\n",
    "3. 最后把向量化的这本书保存下来，方便之后调用"
   ]
  },
  {
   "cell_type": "code",
   "execution_count": 8,
   "metadata": {},
   "outputs": [],
   "source": [
    "import numpy as np\n",
    "text_tensor = np.array(list(map(vocab.get, text)))\n",
    "np.save(tensor_file, text_tensor)"
   ]
  },
  {
   "cell_type": "markdown",
   "metadata": {},
   "source": [
    "构建训练所需数据格式"
   ]
  },
  {
   "cell_type": "code",
   "execution_count": 9,
   "metadata": {},
   "outputs": [],
   "source": [
    "num_batches = int(text_tensor.size / (batch_size * seq_length))\n",
    "\n",
    "if num_batches == 0:\n",
    "    assert False, \"Not enough data. Make seq_length and batch_size small.\"\n",
    "\n",
    "text_tensor = text_tensor[: num_batches * batch_size * seq_length]\n",
    "xdata = text_tensor\n",
    "ydata = np.copy(text_tensor)\n",
    "\n",
    "#循环神经网络，最后一个输出为最先一个输入\n",
    "ydata[:-1] = xdata[1:]\n",
    "ydata[-1] = xdata[0]\n",
    "x_batches = np.split(xdata.reshape( batch_size, -1),\n",
    "                          num_batches, 1)\n",
    "y_batches = np.split(ydata.reshape(batch_size, -1),\n",
    "                          num_batches, 1)"
   ]
  },
  {
   "cell_type": "markdown",
   "metadata": {},
   "source": [
    "构建一个生成器,生成批次数据"
   ]
  },
  {
   "cell_type": "code",
   "execution_count": 10,
   "metadata": {},
   "outputs": [],
   "source": [
    "def next_batch():\n",
    "    x, y = x_batches[pointer], y_batches[pointer]\n",
    "    return x, y  "
   ]
  },
  {
   "cell_type": "code",
   "execution_count": 11,
   "metadata": {},
   "outputs": [
    {
     "name": "stderr",
     "output_type": "stream",
     "text": [
      "C:\\ProgramData\\Anaconda3\\lib\\site-packages\\h5py\\__init__.py:36: FutureWarning: Conversion of the second argument of issubdtype from `float` to `np.floating` is deprecated. In future, it will be treated as `np.float64 == np.dtype(float).type`.\n",
      "  from ._conv import register_converters as _register_converters\n"
     ]
    }
   ],
   "source": [
    "import time\n",
    "import tensorflow as tf\n",
    "from tensorflow.contrib import rnn\n",
    "from tensorflow.contrib import legacy_seq2seq\n",
    "from tensorflow.python.framework import ops\n",
    "ops.reset_default_graph()"
   ]
  },
  {
   "cell_type": "markdown",
   "metadata": {},
   "source": [
    "构建LSTM的cell"
   ]
  },
  {
   "cell_type": "code",
   "execution_count": 12,
   "metadata": {},
   "outputs": [],
   "source": [
    "cells = []\n",
    "for _ in range(num_layers):\n",
    "    cell = rnn.LSTMCell(rnn_size)\n",
    "    if output_keep_prob < 1.0 or input_keep_prob < 1.0:\n",
    "        cell = rnn.DropoutWrapper(cell,\n",
    "                                  input_keep_prob=input_keep_prob,\n",
    "                                  output_keep_prob=output_keep_prob)\n",
    "    cells.append(cell)\n",
    "\n",
    "cell = rnn.MultiRNNCell(cells, state_is_tuple=True)"
   ]
  },
  {
   "cell_type": "markdown",
   "metadata": {},
   "source": [
    "初始化占位符,随机化参数矩阵，"
   ]
  },
  {
   "cell_type": "code",
   "execution_count": 13,
   "metadata": {},
   "outputs": [],
   "source": [
    "input_data = tf.placeholder(tf.int32, [batch_size, seq_length])\n",
    "targets = tf.placeholder(tf.int32, [batch_size, seq_length])\n",
    "initial_state = cell.zero_state(batch_size, tf.float32)\n",
    "\n",
    "with tf.variable_scope('rnnlm'):\n",
    "    softmax_w = tf.get_variable(\"softmax_w\",[rnn_size, vocab_size])\n",
    "    softmax_b = tf.get_variable(\"softmax_b\", [vocab_size])"
   ]
  },
  {
   "cell_type": "markdown",
   "metadata": {},
   "source": [
    "将input转化为词嵌入向量"
   ]
  },
  {
   "cell_type": "code",
   "execution_count": 14,
   "metadata": {},
   "outputs": [],
   "source": [
    "embedding = tf.get_variable(\"embedding\", [vocab_size, rnn_size])\n",
    "inputs = tf.nn.embedding_lookup(embedding, input_data)"
   ]
  },
  {
   "cell_type": "markdown",
   "metadata": {},
   "source": [
    "拆散input_data放入rnn模型"
   ]
  },
  {
   "cell_type": "code",
   "execution_count": 15,
   "metadata": {},
   "outputs": [],
   "source": [
    "inputs = tf.split(inputs, seq_length, 1)\n",
    "inputs = [tf.squeeze(input_, [1]) for input_ in inputs]"
   ]
  },
  {
   "cell_type": "markdown",
   "metadata": {},
   "source": [
    "decoder的输出和最终状态"
   ]
  },
  {
   "cell_type": "code",
   "execution_count": 16,
   "metadata": {},
   "outputs": [],
   "source": [
    "outputs, last_state = legacy_seq2seq.rnn_decoder(inputs, initial_state, cell, scope='rnnlm')\n",
    "output = tf.reshape(tf.concat(outputs, 1), [-1, rnn_size])"
   ]
  },
  {
   "cell_type": "markdown",
   "metadata": {},
   "source": [
    "对输出层做softmax"
   ]
  },
  {
   "cell_type": "code",
   "execution_count": 17,
   "metadata": {},
   "outputs": [],
   "source": [
    "logits = tf.matmul(output, softmax_w) + softmax_b\n",
    "probs = tf.nn.softmax(logits)"
   ]
  },
  {
   "cell_type": "markdown",
   "metadata": {},
   "source": [
    "loss"
   ]
  },
  {
   "cell_type": "code",
   "execution_count": 18,
   "metadata": {},
   "outputs": [],
   "source": [
    "loss = legacy_seq2seq.sequence_loss_by_example(\n",
    "        [logits],\n",
    "        [tf.reshape(targets, [-1])],\n",
    "        [tf.ones([batch_size * seq_length])])\n",
    "with tf.name_scope('cost'):\n",
    "    cost = tf.reduce_sum(loss) / batch_size / seq_length\n",
    "final_state = last_state\n",
    "lr = tf.Variable(0.0, trainable=False)\n",
    "tvars = tf.trainable_variables()"
   ]
  },
  {
   "cell_type": "markdown",
   "metadata": {},
   "source": [
    "优化器"
   ]
  },
  {
   "cell_type": "code",
   "execution_count": 19,
   "metadata": {},
   "outputs": [],
   "source": [
    "grads, _ = tf.clip_by_global_norm(tf.gradients(cost, tvars),grad_clip)\n",
    "with tf.name_scope('optimizer'):\n",
    "    optimizer = tf.train.AdamOptimizer(lr)"
   ]
  },
  {
   "cell_type": "code",
   "execution_count": 20,
   "metadata": {},
   "outputs": [],
   "source": [
    "train_op = optimizer.apply_gradients(zip(grads, tvars))"
   ]
  },
  {
   "cell_type": "markdown",
   "metadata": {},
   "source": [
    "开始训练"
   ]
  },
  {
   "cell_type": "code",
   "execution_count": 21,
   "metadata": {},
   "outputs": [
    {
     "name": "stdout",
     "output_type": "stream",
     "text": [
      "0/38 (epoch 0), train_loss = 7.984, time/batch = 1.575\n",
      "model saved to ./save\\model.ckpt\n",
      "1/38 (epoch 0), train_loss = 7.982, time/batch = 1.185\n",
      "2/38 (epoch 0), train_loss = 7.976, time/batch = 1.228\n",
      "3/38 (epoch 0), train_loss = 7.954, time/batch = 1.114\n",
      "4/38 (epoch 0), train_loss = 7.862, time/batch = 1.122\n",
      "5/38 (epoch 0), train_loss = 7.589, time/batch = 1.122\n",
      "6/38 (epoch 0), train_loss = 7.271, time/batch = 1.117\n",
      "7/38 (epoch 0), train_loss = 7.042, time/batch = 1.112\n",
      "8/38 (epoch 0), train_loss = 6.839, time/batch = 1.113\n",
      "9/38 (epoch 0), train_loss = 6.620, time/batch = 1.116\n",
      "10/38 (epoch 0), train_loss = 6.459, time/batch = 1.123\n",
      "11/38 (epoch 0), train_loss = 6.334, time/batch = 1.223\n",
      "12/38 (epoch 0), train_loss = 6.277, time/batch = 1.109\n",
      "13/38 (epoch 0), train_loss = 6.206, time/batch = 1.111\n",
      "14/38 (epoch 0), train_loss = 6.200, time/batch = 1.132\n",
      "15/38 (epoch 0), train_loss = 6.233, time/batch = 1.142\n",
      "16/38 (epoch 0), train_loss = 6.230, time/batch = 1.113\n",
      "17/38 (epoch 0), train_loss = 6.181, time/batch = 1.114\n",
      "18/38 (epoch 0), train_loss = 6.198, time/batch = 1.125\n",
      "19/38 (epoch 0), train_loss = 6.218, time/batch = 1.125\n",
      "20/38 (epoch 0), train_loss = 6.229, time/batch = 1.133\n",
      "21/38 (epoch 0), train_loss = 6.226, time/batch = 1.113\n",
      "22/38 (epoch 0), train_loss = 6.161, time/batch = 1.122\n",
      "23/38 (epoch 0), train_loss = 6.196, time/batch = 1.256\n",
      "24/38 (epoch 0), train_loss = 6.225, time/batch = 1.112\n",
      "25/38 (epoch 0), train_loss = 6.205, time/batch = 1.125\n",
      "26/38 (epoch 0), train_loss = 6.173, time/batch = 1.115\n",
      "27/38 (epoch 0), train_loss = 6.167, time/batch = 1.120\n",
      "28/38 (epoch 0), train_loss = 6.150, time/batch = 1.125\n",
      "29/38 (epoch 0), train_loss = 6.173, time/batch = 1.124\n",
      "30/38 (epoch 0), train_loss = 6.100, time/batch = 1.109\n",
      "31/38 (epoch 0), train_loss = 6.176, time/batch = 1.121\n",
      "32/38 (epoch 0), train_loss = 6.166, time/batch = 1.112\n",
      "33/38 (epoch 0), train_loss = 6.132, time/batch = 1.116\n",
      "34/38 (epoch 0), train_loss = 6.131, time/batch = 1.214\n",
      "35/38 (epoch 0), train_loss = 6.176, time/batch = 1.114\n",
      "36/38 (epoch 0), train_loss = 6.157, time/batch = 1.113\n",
      "37/38 (epoch 0), train_loss = 6.170, time/batch = 1.119\n",
      "model saved to ./save\\model.ckpt\n"
     ]
    }
   ],
   "source": [
    "train_loss_result = []\n",
    "with tf.Session() as sess:\n",
    "    sess.run(tf.global_variables_initializer())\n",
    "    saver = tf.train.Saver(tf.global_variables())\n",
    "    # restore model\n",
    "    if init_from is not None:\n",
    "        saver.restore(sess, ckpt)\n",
    "    \n",
    "    for i in range(num_epochs):\n",
    "        sess.run(tf.assign(lr,learning_rate * (decay_rate ** i)))\n",
    "        state = sess.run(initial_state)\n",
    "        pointer = 0\n",
    "        for j in range(num_batches):\n",
    "            start = time.time()\n",
    "            x, y = next_batch()\n",
    "            pointer +=1\n",
    "            feed = {input_data: x, targets: y}\n",
    "            \n",
    "            for a, (c, h) in enumerate(initial_state):\n",
    "                feed[c] = state[a].c\n",
    "                feed[h] = state[a].h\n",
    "\n",
    "      \n",
    "            train_loss, state, _ = sess.run([ cost, final_state,train_op], feed)\n",
    "            train_loss_result.append(train_loss)\n",
    "\n",
    "            end = time.time()\n",
    "            print(\"{}/{} (epoch {}), train_loss = {:.3f}, time/batch = {:.3f}\"\n",
    "                  .format(i * num_batches + j,\n",
    "                          num_epochs * num_batches,\n",
    "                          i, train_loss, end - start))\n",
    "            if (i * num_batches + j) % save_every == 0\\\n",
    "                    or (i == num_epochs-1 and\n",
    "                        j == num_batches-1):\n",
    "                # save for the last result\n",
    "                checkpoint_path = os.path.join(save_dir, 'model.ckpt')\n",
    "                saver.save(sess, checkpoint_path,\n",
    "                           global_step=i * num_batches + j)\n",
    "                print(\"model saved to {}\".format(checkpoint_path))"
   ]
  },
  {
   "cell_type": "code",
   "execution_count": 23,
   "metadata": {},
   "outputs": [
    {
     "data": {
      "image/png": "[encoded data removed]",
      "text/plain": [
       "<Figure size 432x288 with 1 Axes>"
      ]
     },
     "metadata": {},
     "output_type": "display_data"
    }
   ],
   "source": [
    "import matplotlib.pyplot as plt\n",
    "_x = [i for i in range(1,len(train_loss_result)+1)]\n",
    "plt.plot(_x, train_loss_result, 'k-', label='Train Loss')\n",
    "plt.title('Cross Entropy Loss per Generation')\n",
    "plt.xlabel('Generation')\n",
    "plt.ylabel('Cross Entropy Loss')\n",
    "plt.legend(loc='upper right')\n",
    "plt.show()"
   ]
  },
  {
   "cell_type": "markdown",
   "metadata": {},
   "source": [
    "使用语言模型做测试 [debuging......](www.bug.com)"
   ]
  },
  {
   "cell_type": "raw",
   "metadata": {},
   "source": [
    "from six.moves import cPickle\n",
    "with open(_file, 'rb') as f:\n",
    "    chars, vocab = cPickle.load(f)\n",
    "vocab_size = len(chars)"
   ]
  },
  {
   "cell_type": "raw",
   "metadata": {},
   "source": [
    "import numpy as np\n",
    "import time\n",
    "import tensorflow as tf\n",
    "from tensorflow.contrib import rnn\n",
    "from tensorflow.contrib import legacy_seq2seq\n",
    "from tensorflow.python.framework import ops\n",
    "ops.reset_default_graph()\n",
    "\n",
    "batch_size = 1\n",
    "seq_length = 1\n",
    "\n",
    "cell = rnn.MultiRNNCell([ rnn.LSTMCell(rnn_size) for _ in range(num_layers)], state_is_tuple=True)\n",
    "\n",
    "input_data = tf.placeholder(tf.int32, [1, 1])\n",
    "targets = tf.placeholder(tf.int32, [1, 1])\n",
    "initial_state = cell.zero_state(1, tf.float32)\n",
    "\n",
    "with tf.variable_scope('rnnlm'):\n",
    "    softmax_w = tf.get_variable(\"softmax_w\",[rnn_size, vocab_size])\n",
    "    softmax_b = tf.get_variable(\"softmax_b\", [vocab_size])\n",
    "    \n",
    "embedding = tf.get_variable(\"embedding\", [vocab_size, rnn_size])\n",
    "inputs = tf.nn.embedding_lookup(embedding, input_data)\n",
    "\n",
    "inputs = tf.split(inputs, seq_length, 1)\n",
    "inputs = [tf.squeeze(input_, [1]) for input_ in inputs]"
   ]
  },
  {
   "cell_type": "raw",
   "metadata": {},
   "source": [
    "def loop(prev, _):\n",
    "    prev = tf.matmul(prev, softmax_w) + softmax_b\n",
    "    prev_symbol = tf.stop_gradient(tf.argmax(prev, 1))\n",
    "    return tf.nn.embedding_lookup(embedding, prev_symbol)"
   ]
  },
  {
   "cell_type": "raw",
   "metadata": {},
   "source": [
    "# outputs, last_state = legacy_seq2seq.rnn_decoder(inputs, initial_state, cell, loop_function=loop , scope='rnnlm')\n",
    "output = tf.reshape(tf.concat(outputs, 1), [-1, rnn_size])\n",
    "logits = tf.matmul(output, softmax_w) + softmax_b\n",
    "probs = tf.nn.sigmoid(logits)\n",
    "\n",
    "loss = legacy_seq2seq.sequence_loss_by_example(\n",
    "        [logits],\n",
    "        [tf.reshape(targets, [-1])],\n",
    "        [tf.ones([batch_size * seq_length])])\n",
    "\n",
    "with tf.name_scope('cost'):\n",
    "    cost = tf.reduce_sum(loss) / batch_size / seq_length\n",
    "    \n",
    "final_state = last_state\n",
    "lr = tf.Variable(0.0, trainable=False)\n",
    "tvars = tf.trainable_variables()\n",
    "grads, _ = tf.clip_by_global_norm(tf.gradients(cost, tvars),grad_clip)\n",
    "with tf.name_scope('optimizer'):\n",
    "    optimizer = tf.train.AdamOptimizer(lr)\n",
    "train_op = optimizer.apply_gradients(zip(grads, tvars))"
   ]
  },
  {
   "cell_type": "raw",
   "metadata": {},
   "source": [
    "def sample(sess, chars, vocab, num=200, prime='The ', sampling_type=1):\n",
    "    state = sess.run(cell.zero_state(1, tf.float32))\n",
    "    for char in prime[:-1]:\n",
    "        x = np.zeros((1, 1))\n",
    "        x[0, 0] = vocab[char]\n",
    "        feed = {input_data: x, initial_state: state}\n",
    "        [state] = sess.run([final_state], feed)\n",
    "\n",
    "    def weighted_pick(weights):\n",
    "        t = np.cumsum(weights)\n",
    "        s = np.sum(weights)\n",
    "        return(int(np.searchsorted(t, np.random.rand(1)*s)))\n",
    "\n",
    "    ret = prime\n",
    "    char = prime[-1]\n",
    "    for _ in range(num):\n",
    "        x = np.zeros((1, 1))\n",
    "        x[0, 0] = vocab[char]\n",
    "        feed = {input_data: x, initial_state: state}\n",
    "        [probs, state] = sess.run([probs, final_state], feed)\n",
    "        p = probs[0]\n",
    "\n",
    "        if sampling_type == 0:\n",
    "            sample = np.argmax(p)\n",
    "        elif sampling_type == 2:\n",
    "            if char == ' ':\n",
    "                sample = weighted_pick(p)\n",
    "            else:\n",
    "                sample = np.argmax(p)\n",
    "        else:  # sampling_type == 1 default:\n",
    "            sample = weighted_pick(p)\n",
    "\n",
    "        pred = chars[sample]\n",
    "        ret += pred\n",
    "        char = pred\n",
    "    return ret"
   ]
  },
  {
   "cell_type": "code",
   "execution_count": 18,
   "metadata": {},
   "outputs": [],
   "source": [
    "prime = '悲伤逆流成河'"
   ]
  },
  {
   "cell_type": "raw",
   "metadata": {},
   "source": [
    "with tf.Session() as sess:\n",
    "    tf.global_variables_initializer().run()\n",
    "    saver = tf.train.Saver(tf.global_variables())\n",
    "    ckpt = tf.train.get_checkpoint_state(save_dir)\n",
    "    if ckpt and ckpt.model_checkpoint_path:\n",
    "        saver.restore(sess, ckpt.model_checkpoint_path)\n",
    "        print(sample(sess, chars, vocab, 500, prime,1))"
   ]
  }
 ],
 "metadata": {
  "kernelspec": {
   "display_name": "Python 3",
   "language": "python",
   "name": "python3"
  },
  "language_info": {
   "codemirror_mode": {
    "name": "ipython",
    "version": 3
   },
   "file_extension": ".py",
   "mimetype": "text/x-python",
   "name": "python",
   "nbconvert_exporter": "python",
   "pygments_lexer": "ipython3",
   "version": "3.6.5"
  }
 },
 "nbformat": 4,
 "nbformat_minor": 2
}
