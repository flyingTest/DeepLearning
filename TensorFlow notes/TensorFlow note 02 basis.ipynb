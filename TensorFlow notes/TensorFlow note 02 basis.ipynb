{
 "cells": [
  {
   "cell_type": "markdown",
   "metadata": {},
   "source": [
    "# TensorFlow \n",
    "\n",
    "## 计算图\n",
    "\n",
    "首先声明张量和占位符，然后传入图操作\n",
    "工作原理：\n",
    "* 首先数据集和计算图操作\n",
    "* 然后传入数据\n",
    "* 打印返回值"
   ]
  },
  {
   "cell_type": "code",
   "execution_count": 5,
   "metadata": {},
   "outputs": [],
   "source": [
    "import numpy as np\n",
    "import tensorflow as tf\n",
    "sess=tf.Session()\n",
    "\n",
    "x_vals = np.array([x for x in range(1,10,2)])\n",
    "x_data = tf.placeholder(tf.int32)\n",
    "m_const = tf.constant(3)\n",
    "my_product = tf.multiply(x_data,m_const)\n",
    "\n",
    "for x_val in x_vals:\n",
    "    sess.run(my_product,feed_dict = {x_data: x_val})"
   ]
  },
  {
   "cell_type": "markdown",
   "metadata": {},
   "source": [
    "## Tensorflow的嵌入Layer\n",
    "\n",
    "* 首先创建数据和占位符"
   ]
  },
  {
   "cell_type": "code",
   "execution_count": 9,
   "metadata": {},
   "outputs": [],
   "source": [
    "m = np.array([[1.,3.,5.,7.,9.],\n",
    "              [-2.,0.,2.,4.,6.],\n",
    "              [-6.,-3.,0.,3.,6.]])\n",
    "x = np.array([m,m+1])\n",
    "x_data = tf.placeholder(tf.float32,shape=(3, 5))"
   ]
  },
  {
   "cell_type": "markdown",
   "metadata": {},
   "source": [
    "* 创建矩阵乘法和加法要用到的常量矩阵"
   ]
  },
  {
   "cell_type": "code",
   "execution_count": 10,
   "metadata": {},
   "outputs": [],
   "source": [
    "m1 = tf.constant([1.,0.,-1.,2.,4.],shape=(5,1))\n",
    "m2 = tf.constant([2.],shape=(1,1))\n",
    "a1 = tf.constant([10.,11.,12.],shape=(3,1))"
   ]
  },
  {
   "cell_type": "markdown",
   "metadata": {},
   "source": [
    "* 声明操作，表示成计算图"
   ]
  },
  {
   "cell_type": "code",
   "execution_count": 11,
   "metadata": {},
   "outputs": [],
   "source": [
    "prod = tf.matmul(x_data, m1)\n",
    "prod1 = tf.matmul(prod, m2)\n",
    "add1 = tf.add(prod1,a1)"
   ]
  },
  {
   "cell_type": "markdown",
   "metadata": {},
   "source": [
    "* 通过计算图赋值"
   ]
  },
  {
   "cell_type": "code",
   "execution_count": 13,
   "metadata": {},
   "outputs": [],
   "source": [
    "for i in x:\n",
    "    sess.run(add1, feed_dict={x_data:i})"
   ]
  },
  {
   "cell_type": "markdown",
   "metadata": {},
   "source": [
    "## Tensorflow的多层Layer\n",
    "* 首先创建2D图像，4*4像素,并创建占位符"
   ]
  },
  {
   "cell_type": "code",
   "execution_count": 14,
   "metadata": {},
   "outputs": [],
   "source": [
    "x_shape = [1,4,4,1]\n",
    "x = np.random.uniform(size=x_shape)\n",
    "x_data = tf.placeholder(tf.float32, shape=x_shape)"
   ]
  },
  {
   "cell_type": "markdown",
   "metadata": {},
   "source": [
    "* 创建4*4的像素图片的滑动窗口 conv2d传入滑动窗口、过滤器和步长。"
   ]
  },
  {
   "cell_type": "code",
   "execution_count": 16,
   "metadata": {
    "scrolled": true
   },
   "outputs": [],
   "source": [
    "_filter = tf.constant(0.25,shape=[2,2,1,1])\n",
    "_strides = [1,2,2,1]\n",
    "avg_layer = tf.nn.conv2d(x_data,_filter,_strides,\n",
    "                        padding='SAME',name='avg_window')"
   ]
  },
  {
   "cell_type": "markdown",
   "metadata": {},
   "source": [
    "* 自定义一个Layer：\n",
    "\n",
    "    将输入张量乘以一个2*2的矩阵张量，然后每个元素加1。\n",
    "    裁剪"
   ]
  },
  {
   "cell_type": "code",
   "execution_count": 30,
   "metadata": {},
   "outputs": [],
   "source": [
    "def custom_layer(input_matrix):\n",
    "    input_matrix_sqeezed = tf.squeeze(input_matrix)\n",
    "    w = tf.constant([[ 1., 2.],[-1.,3.]])\n",
    "    b = tf.constant(1., shape=[2,2])\n",
    "    temp = tf.matmul(w,input_matrix_sqeezed)\n",
    "    temp = tf.add(temp, b)\n",
    "    return tf.sigmoid(temp)"
   ]
  },
  {
   "cell_type": "markdown",
   "metadata": {},
   "source": [
    "* 将新定义的Layer加入到计算图中"
   ]
  },
  {
   "cell_type": "code",
   "execution_count": 35,
   "metadata": {},
   "outputs": [],
   "source": [
    "with tf.name_scope('custom_layer') as scope:\n",
    "    _custom_layer = custom_layer(avg_layer)"
   ]
  },
  {
   "cell_type": "markdown",
   "metadata": {},
   "source": [
    "* 执行计算图"
   ]
  },
  {
   "cell_type": "code",
   "execution_count": 34,
   "metadata": {},
   "outputs": [
    {
     "data": {
      "text/plain": [
       "array([[0.9505035 , 0.93600875],\n",
       "       [0.90473413, 0.92071646]], dtype=float32)"
      ]
     },
     "execution_count": 34,
     "metadata": {},
     "output_type": "execute_result"
    }
   ],
   "source": [
    "sess.run(_custom_layer, feed_dict={x_data:x})"
   ]
  },
  {
   "cell_type": "markdown",
   "metadata": {},
   "source": [
    "# Tensorflow 实现损失函数\n",
    "## base"
   ]
  },
  {
   "cell_type": "code",
   "execution_count": 175,
   "metadata": {},
   "outputs": [],
   "source": [
    "import tensorflow as tf\n",
    "import matplotlib.pyplot as plt"
   ]
  },
  {
   "cell_type": "markdown",
   "metadata": {},
   "source": [
    "* x预测序列是-1到1之间的等差数列"
   ]
  },
  {
   "cell_type": "code",
   "execution_count": 176,
   "metadata": {},
   "outputs": [],
   "source": [
    "x = tf.linspace(-1.,1.,50)\n",
    "target = tf.constant(0.)"
   ]
  },
  {
   "cell_type": "markdown",
   "metadata": {},
   "source": [
    "### 1 L2正则损失函数（欧拉损失函数）：\n",
    "\n",
    "预测值与目标值的平方和。L2正则有优势在与在目标值附件有更好的曲度</p>\n",
    "机器学习算法利用这点收敛并且离目标越近收敛越慢。"
   ]
  },
  {
   "cell_type": "code",
   "execution_count": 177,
   "metadata": {},
   "outputs": [],
   "source": [
    "mL2 = tf.square(target-x)\n",
    "mL2_out = sess.run(mL2)"
   ]
  },
  {
   "cell_type": "code",
   "execution_count": 178,
   "metadata": {},
   "outputs": [],
   "source": [
    "nL2 = tf.nn.l2_loss(target-x)\n",
    "nL2_out = sess.run(nL2)"
   ]
  },
  {
   "cell_type": "markdown",
   "metadata": {},
   "source": [
    "### 2 L1正则损失函数-绝对值损失函数\n",
    "\n",
    "L1正则损失对差值求绝对值</p>\n",
    "L1正则在目标值附件不平滑，这会导致算法不能很好的收敛"
   ]
  },
  {
   "cell_type": "code",
   "execution_count": 185,
   "metadata": {},
   "outputs": [],
   "source": [
    "L1 = tf.abs(target-x)\n",
    "L1_out = sess.run(L1)"
   ]
  },
  {
   "cell_type": "markdown",
   "metadata": {},
   "source": [
    "### 3 Pseudo-Huber损失函数\n",
    "\n",
    "利用L1和L2正则消减极值处的陡峭，使得目标值附近连续</p>\n",
    "它的表达式依赖参数delta。"
   ]
  },
  {
   "cell_type": "code",
   "execution_count": 172,
   "metadata": {},
   "outputs": [
    {
     "data": {
      "text/plain": [
       "4.2497315"
      ]
     },
     "execution_count": 172,
     "metadata": {},
     "output_type": "execute_result"
    }
   ],
   "source": [
    "delta_1 = tf.constant(0.25)\n",
    "PHuber_y = tf.multiply(tf.square(delta_1),tf.sqrt(1. +\n",
    "                    tf.square((target-x)/ delta_1)) -1.)\n",
    "PHuber_out = sess.run(PHuber_y)"
   ]
  },
  {
   "cell_type": "code",
   "execution_count": 173,
   "metadata": {},
   "outputs": [
    {
     "data": {
      "text/plain": [
       "4.2497315"
      ]
     },
     "execution_count": 173,
     "metadata": {},
     "output_type": "execute_result"
    }
   ],
   "source": [
    "delta_2 = tf.constant(0.5)\n",
    "PHuber_2_y = tf.multiply(tf.square(delta_2),tf.sqrt(1. +\n",
    "                    tf.square((target-x)/ delta_2)) -1.)\n",
    "PHuber_2_out = sess.run(PHuber_y)"
   ]
  },
  {
   "cell_type": "markdown",
   "metadata": {},
   "source": [
    "* 重新对x和target赋值"
   ]
  },
  {
   "cell_type": "code",
   "execution_count": 189,
   "metadata": {},
   "outputs": [],
   "source": [
    "x = tf.linspace(-3.,5.,500)\n",
    "target = tf.constant(1.)\n",
    "targets = tf.fill([500,], 1.)"
   ]
  },
  {
   "cell_type": "markdown",
   "metadata": {},
   "source": [
    "### 4.Hinge损失函数\n",
    "maximum -- 最大值"
   ]
  },
  {
   "cell_type": "code",
   "execution_count": 190,
   "metadata": {},
   "outputs": [],
   "source": [
    "Hinge_y = tf.maximum(0.,1. - tf.multiply(target,x))\n",
    "Hinge_y_out = sess.run(Hinge_y) "
   ]
  },
  {
   "cell_type": "markdown",
   "metadata": {},
   "source": [
    "### 5.两类交叉熵损失函数（Cross-entropy loss）\n",
    "当预测目标为0或者1时，用交叉熵的方式来度量预测值到目标值0,1的距离。</p>\n",
    "缺少健壮但无边界损失"
   ]
  },
  {
   "cell_type": "code",
   "execution_count": 191,
   "metadata": {},
   "outputs": [],
   "source": [
    "Cross_entropy_y = tf.multiply(target, tf.log(x)) - tf.multiply(1-target, tf.log(1-x))\n",
    "Cross_entropy_out = sess.run(Cross_entropy_y)"
   ]
  },
  {
   "cell_type": "markdown",
   "metadata": {},
   "source": [
    "### 6.Sigmoid交叉熵损失函数（Sigmoid Cross entropy loss）\n",
    "先把x的值通过sigmoid转化，再计算交叉熵"
   ]
  },
  {
   "cell_type": "code",
   "execution_count": 192,
   "metadata": {},
   "outputs": [],
   "source": [
    "Sigmoid_Cross_entropy_y = tf.nn.sigmoid_cross_entropy_with_logits(labels=targets,logits=x)\n",
    "Sigmoid_Cross_entropy_y_out = sess.run(Sigmoid_Cross_entropy_y )"
   ]
  },
  {
   "cell_type": "markdown",
   "metadata": {},
   "source": [
    "### 7.加权交叉熵损失函数（Weighted Cross entropy loss）\n",
    "是sigmoid交叉熵损失函数的加权，对正目标加权。</p>\n",
    "例如： 正目标权值为0.5时"
   ]
  },
  {
   "cell_type": "code",
   "execution_count": 197,
   "metadata": {},
   "outputs": [],
   "source": [
    "Weighted = tf.constant(0.5)\n",
    "Weighted_Cross_entropy_y = tf.nn.weighted_cross_entropy_with_logits(x,targets,Weighted)\n",
    "Weighted_Cross_entropy_y_out = sess.run(Weighted_Cross_entropy_y )"
   ]
  },
  {
   "cell_type": "markdown",
   "metadata": {},
   "source": [
    "### 8.softmax交叉熵损失函数（softmax Cross entropy loss）\n",
    "作用与非归一化的输出结果，只针对单个目标分类的计算损失。</p>\n",
    "通过softmax函数将输出结果转化为概率分布，然后计算目标值分布的损失。"
   ]
  },
  {
   "cell_type": "code",
   "execution_count": 194,
   "metadata": {},
   "outputs": [],
   "source": [
    "sof = tf.constant([[1.,3.,10.]])\n",
    "softarget = tf.constant([[0.1, 0.02, 0.88]])\n",
    "soft_max_cross_entropy_y = tf.nn.softmax_cross_entropy_with_logits(logits=sof,labels=softarget)\n",
    "soft_max_cross_entropy_y_out = sess.run(soft_max_cross_entropy_y )"
   ]
  },
  {
   "cell_type": "markdown",
   "metadata": {},
   "source": [
    "### 9.稀疏softmax交叉熵损失函数（sparse softmax Cross entropy loss）\n",
    "与softmax函数将输出结果转化为概率分布不同的是，它把分类为true的转化为index"
   ]
  },
  {
   "cell_type": "code",
   "execution_count": 195,
   "metadata": {},
   "outputs": [],
   "source": [
    "sof = tf.constant([[1.,3.,10.]])\n",
    "softarget = tf.constant([2])\n",
    "sparse_soft_max_cross_entropy_y = tf.nn.sparse_softmax_cross_entropy_with_logits(logits=sof,labels=softarget)\n",
    "sparse_soft_max_cross_entropy_y_out = sess.run(sparse_soft_max_cross_entropy_y )"
   ]
  },
  {
   "cell_type": "markdown",
   "metadata": {},
   "source": [
    "## 可视化\n",
    "* 回归算法损失函数"
   ]
  },
  {
   "cell_type": "code",
   "execution_count": 188,
   "metadata": {},
   "outputs": [
    {
     "data": {
      "text/plain": [
       "<matplotlib.legend.Legend at 0x35e2f978>"
      ]
     },
     "execution_count": 188,
     "metadata": {},
     "output_type": "execute_result"
    },
    {
     "data": {
      "image/png": "[encoded data removed]",
      "text/plain": [
       "<Figure size 432x288 with 1 Axes>"
      ]
     },
     "metadata": {},
     "output_type": "display_data"
    }
   ],
   "source": [
    "x_array = sess.run(x)\n",
    "plt.plot(x_array,mL2_out,'b-',label='L2 Loss')\n",
    "plt.plot(x_array,L1_out,'r--',label='L1 Loss')\n",
    "plt.plot(x_array,PHuber_out,'k-',label='PHuber_out(0.25) Loss')\n",
    "plt.plot(x_array,PHuber_2_out,'g:',label='PHuber_out(0.5) Loss')\n",
    "plt.ylim(-0.2,0.4)\n",
    "plt.legend(loc='lower right',prop={'size':11})"
   ]
  },
  {
   "cell_type": "markdown",
   "metadata": {},
   "source": [
    "* 分类算法损失函数"
   ]
  },
  {
   "cell_type": "code",
   "execution_count": 198,
   "metadata": {},
   "outputs": [
    {
     "data": {
      "text/plain": [
       "<matplotlib.legend.Legend at 0x36faa1d0>"
      ]
     },
     "execution_count": 198,
     "metadata": {},
     "output_type": "execute_result"
    },
    {
     "data": {
      "image/png": "[encoded data removed]",
      "text/plain": [
       "<Figure size 432x288 with 1 Axes>"
      ]
     },
     "metadata": {},
     "output_type": "display_data"
    }
   ],
   "source": [
    "x_array = sess.run(x)\n",
    "plt.plot(x_array,Hinge_y_out,'b-',label='Hinge Loss')\n",
    "plt.plot(x_array,Cross_entropy_out,'r--',label='Cross_entropy Loss')\n",
    "plt.plot(x_array,Sigmoid_Cross_entropy_y_out,'k-',label='Sigmoid_Cross_entropy Loss')\n",
    "plt.plot(x_array,Weighted_Cross_entropy_y_out,'g:',label='Weighted_Cross_entropy_y_out Loss')\n",
    "plt.ylim(-1.5,3)\n",
    "plt.legend(loc='lower right',prop={'size':11})"
   ]
  },
  {
   "cell_type": "code",
   "execution_count": null,
   "metadata": {},
   "outputs": [],
   "source": []
  },
  {
   "cell_type": "markdown",
   "metadata": {},
   "source": [
    "## TensorFlow 实现反向传播"
   ]
  },
  {
   "cell_type": "code",
   "execution_count": 457,
   "metadata": {},
   "outputs": [],
   "source": [
    "x = np.random.normal(1, 0.1, 100)\n",
    "y = np.repeat(10.,100)"
   ]
  },
  {
   "cell_type": "code",
   "execution_count": 458,
   "metadata": {},
   "outputs": [
    {
     "data": {
      "text/plain": [
       "[<matplotlib.lines.Line2D at 0x37628ac8>]"
      ]
     },
     "execution_count": 458,
     "metadata": {},
     "output_type": "execute_result"
    },
    {
     "data": {
      "image/png": "[encoded data removed]",
      "text/plain": [
       "<Figure size 432x288 with 1 Axes>"
      ]
     },
     "metadata": {},
     "output_type": "display_data"
    }
   ],
   "source": [
    "plt.plot(x)"
   ]
  },
  {
   "cell_type": "markdown",
   "metadata": {},
   "source": [
    "* 创建占位符"
   ]
  },
  {
   "cell_type": "code",
   "execution_count": 459,
   "metadata": {},
   "outputs": [],
   "source": [
    "x_data = tf.placeholder(shape=[1],dtype=tf.float32)\n",
    "y_taget = tf.placeholder(shape=[1],dtype=tf.float32)\n",
    "A = tf.Variable(tf.random_normal(shape=[1]))"
   ]
  },
  {
   "cell_type": "markdown",
   "metadata": {},
   "source": [
    "* 乘法"
   ]
  },
  {
   "cell_type": "code",
   "execution_count": 460,
   "metadata": {},
   "outputs": [],
   "source": [
    "output = tf.multiply(x_data,A)"
   ]
  },
  {
   "cell_type": "markdown",
   "metadata": {},
   "source": [
    "* Loss"
   ]
  },
  {
   "cell_type": "code",
   "execution_count": 461,
   "metadata": {},
   "outputs": [],
   "source": [
    "loss = tf.square(output-y_taget)"
   ]
  },
  {
   "cell_type": "markdown",
   "metadata": {},
   "source": [
    "* 运行前记得初始化"
   ]
  },
  {
   "cell_type": "code",
   "execution_count": 462,
   "metadata": {},
   "outputs": [],
   "source": [
    "init = tf.initialize_all_variables()\n",
    "sess.run(init)"
   ]
  },
  {
   "cell_type": "markdown",
   "metadata": {},
   "source": [
    " * 声明变量优化器 \n",
    " \n",
    "大部分优化器算法需要知道每步迭代的步长，这距离是由学习率控制的。如果学习率太小，算法可能耗时很长才能收敛；</p>\n",
    "如果学习率太大，机器学习算法可能不会收敛。相应地导致梯度消失和梯度爆炸的问题。"
   ]
  },
  {
   "cell_type": "code",
   "execution_count": 463,
   "metadata": {},
   "outputs": [],
   "source": [
    "opt = tf.train.GradientDescentOptimizer(learning_rate=0.02)\n",
    "train_step = opt.minimize(loss)"
   ]
  },
  {
   "cell_type": "markdown",
   "metadata": {},
   "source": [
    "* 训练算法，迭代x，y 更新A"
   ]
  },
  {
   "cell_type": "code",
   "execution_count": 464,
   "metadata": {
    "scrolled": true
   },
   "outputs": [
    {
     "name": "stdout",
     "output_type": "stream",
     "text": [
      "epoch:5 \t A=2.1651263\t  Loss=64.28085\n",
      "epoch:10 \t A=3.5697696\t  Loss=39.7791\n",
      "epoch:15 \t A=4.7373223\t  Loss=29.839016\n",
      "epoch:20 \t A=5.6984487\t  Loss=19.924246\n",
      "epoch:25 \t A=6.495362\t  Loss=10.519499\n",
      "epoch:30 \t A=7.146263\t  Loss=9.483592\n",
      "epoch:35 \t A=7.632085\t  Loss=2.4796662\n",
      "epoch:40 \t A=8.110723\t  Loss=8.46154\n",
      "epoch:45 \t A=8.391664\t  Loss=0.12113822\n",
      "epoch:50 \t A=8.792226\t  Loss=2.2434902\n",
      "epoch:55 \t A=8.976546\t  Loss=0.82670826\n",
      "epoch:60 \t A=9.172077\t  Loss=3.8897436\n",
      "epoch:65 \t A=9.3713875\t  Loss=0.4298596\n",
      "epoch:70 \t A=9.478368\t  Loss=0.84907824\n",
      "epoch:75 \t A=9.498564\t  Loss=1.2905385\n",
      "epoch:80 \t A=9.514247\t  Loss=0.10472054\n",
      "epoch:85 \t A=9.618047\t  Loss=0.38151866\n",
      "epoch:90 \t A=9.782707\t  Loss=1.6577383\n",
      "epoch:95 \t A=9.775305\t  Loss=0.29966816\n",
      "epoch:100 \t A=9.722341\t  Loss=1.3455974\n"
     ]
    }
   ],
   "source": [
    "epoch=100\n",
    "rand_loss = []\n",
    "for i in range(epoch):\n",
    "    rand_index = np.random.choice(100)\n",
    "    rand_x = [x[rand_index]]\n",
    "    rand_y = [y[rand_index]]\n",
    "    sess.run(train_step,feed_dict={x_data:rand_x,y_taget:rand_y})\n",
    "    if (i+1)%5 ==0:\n",
    "        train_loss =  sess.run(loss,feed_dict={x_data:rand_x,y_taget:rand_y})\n",
    "        print('epoch:{} \\t A={}\\t  Loss={}'\\\n",
    "     .format(str(i+1),str(sess.run(A)[0]),str(sess.run(loss,feed_dict={x_data:rand_x,y_taget:rand_y})[0])))\n",
    "        rand_loss.append(train_loss)"
   ]
  },
  {
   "cell_type": "markdown",
   "metadata": {},
   "source": [
    "### 一个简单的分类算法的例子：\n",
    "\n",
    "我们试图找到一个优化的转化方式A，它可以把2个正态分布转化到原点,sigmoid函数将正态分布分割成不同的两类。"
   ]
  },
  {
   "cell_type": "code",
   "execution_count": 382,
   "metadata": {},
   "outputs": [],
   "source": [
    "from tensorflow.python.framework import ops\n",
    "ops.reset_default_graph()\n",
    "sess = tf.Session()"
   ]
  },
  {
   "cell_type": "markdown",
   "metadata": {},
   "source": [
    "* 在N(-1,1),N(3,1)）生成数据。同时也生成目标标签，占位符和偏差变量A"
   ]
  },
  {
   "cell_type": "code",
   "execution_count": 383,
   "metadata": {},
   "outputs": [],
   "source": [
    "x = np.concatenate((np.random.normal(-1, 1., 50),np.random.normal(3, 1, 50)))\n",
    "y = np.concatenate((np.repeat(0.,50),np.repeat(1.,50)))\n",
    "x_data = tf.placeholder(shape=[1],dtype=tf.float32)\n",
    "y_taget = tf.placeholder(shape=[1],dtype=tf.float32)\n",
    "A = tf.Variable(tf.random_normal(mean=10,shape=[1]))\n",
    "# 初始化在10附件，可以看到数据是怎么从10收敛到理论值的 -1 的"
   ]
  },
  {
   "cell_type": "code",
   "execution_count": 384,
   "metadata": {},
   "outputs": [
    {
     "data": {
      "text/plain": [
       "([<matplotlib.lines.Line2D at 0x382163c8>],\n",
       " [<matplotlib.lines.Line2D at 0x38216860>])"
      ]
     },
     "execution_count": 384,
     "metadata": {},
     "output_type": "execute_result"
    },
    {
     "data": {
      "image/png": "[encoded data removed]",
      "text/plain": [
       "<Figure size 432x288 with 1 Axes>"
      ]
     },
     "metadata": {},
     "output_type": "display_data"
    }
   ],
   "source": [
    "plt.plot(x),plt.plot(y)"
   ]
  },
  {
   "cell_type": "code",
   "execution_count": 385,
   "metadata": {},
   "outputs": [],
   "source": [
    "output = tf.add(x_data,A)"
   ]
  },
  {
   "cell_type": "code",
   "execution_count": 386,
   "metadata": {},
   "outputs": [],
   "source": [
    "output_expanded = tf.expand_dims(output,0)\n",
    "y_expanded = tf.expand_dims(y_taget,0)"
   ]
  },
  {
   "cell_type": "markdown",
   "metadata": {},
   "source": [
    "* 损失函数和优化器"
   ]
  },
  {
   "cell_type": "code",
   "execution_count": 392,
   "metadata": {},
   "outputs": [],
   "source": [
    "loss = tf.nn.sigmoid_cross_entropy_with_logits(logits=output_expanded,labels=y_expanded)\n",
    "opt = tf.train.GradientDescentOptimizer(0.05)\n",
    "train_step = opt.minimize(loss)"
   ]
  },
  {
   "cell_type": "markdown",
   "metadata": {},
   "source": [
    "* 初始化"
   ]
  },
  {
   "cell_type": "code",
   "execution_count": 389,
   "metadata": {},
   "outputs": [],
   "source": [
    "init = tf.initialize_all_variables()\n",
    "sess.run(init)"
   ]
  },
  {
   "cell_type": "markdown",
   "metadata": {},
   "source": [
    "开始训练"
   ]
  },
  {
   "cell_type": "code",
   "execution_count": 390,
   "metadata": {},
   "outputs": [
    {
     "name": "stdout",
     "output_type": "stream",
     "text": [
      "epoch:250 \t A=2.068008\t  Loss=[0.00040356]\n",
      "epoch:500 \t A=-0.4927037\t  Loss=[0.07311753]\n",
      "epoch:750 \t A=-0.9760956\t  Loss=[0.24103089]\n",
      "epoch:1000 \t A=-0.9882837\t  Loss=[0.13702929]\n",
      "epoch:1250 \t A=-0.96414804\t  Loss=[0.26021218]\n",
      "epoch:1500 \t A=-1.0328348\t  Loss=[0.06199799]\n",
      "epoch:1750 \t A=-0.97552115\t  Loss=[0.12095398]\n",
      "epoch:2000 \t A=-1.0568621\t  Loss=[0.3250265]\n"
     ]
    }
   ],
   "source": [
    "epoch=2000\n",
    "for i in range(epoch):\n",
    "    rand_index = np.random.choice(100)\n",
    "    rand_x = [x[rand_index]]\n",
    "    rand_y = [y[rand_index]]\n",
    "    sess.run(train_step,feed_dict={x_data:rand_x,y_taget:rand_y})\n",
    "    if (i+1)%250 ==0:\n",
    "        print('epoch:{} \\t A={}\\t  Loss={}'\\\n",
    "     .format(str(i+1),str(sess.run(A)[0]),str(sess.run(loss,feed_dict={x_data:rand_x,y_taget:rand_y})[0])))"
   ]
  },
  {
   "cell_type": "markdown",
   "metadata": {},
   "source": [
    "### 工作原理总结：\n",
    "* 生成数据\n",
    "* 初始化占位符和变量\n",
    "* 创建损失函数\n",
    "* 定义一个优化器算法\n",
    "* 最后，通过随机数据样本进行迭代，更新变量"
   ]
  },
  {
   "cell_type": "markdown",
   "metadata": {},
   "source": [
    "## 延伸学习\n",
    "\n",
    "* 小学习率\n",
    "收敛慢，但结果精确，若算法不稳定，先降低学习率。\n",
    "* 大学习率\n",
    "结果不精确，但是收敛快，若算法收敛太慢，可提高学习率。\n"
   ]
  },
  {
   "cell_type": "code",
   "execution_count": null,
   "metadata": {},
   "outputs": [],
   "source": []
  },
  {
   "cell_type": "markdown",
   "metadata": {},
   "source": [
    "##  Tensorflow 实现随机批量训练数据\n",
    "\n",
    "* base"
   ]
  },
  {
   "cell_type": "code",
   "execution_count": 448,
   "metadata": {},
   "outputs": [],
   "source": [
    "import tensorflow as tf\n",
    "import numpy as np\n",
    "import matplotlib.pyplot as plt\n",
    "sess = tf.Session()"
   ]
  },
  {
   "cell_type": "markdown",
   "metadata": {},
   "source": [
    "* 声明批量的大小"
   ]
  },
  {
   "cell_type": "code",
   "execution_count": 449,
   "metadata": {},
   "outputs": [],
   "source": [
    "batch_size = 20"
   ]
  },
  {
   "cell_type": "markdown",
   "metadata": {},
   "source": [
    "* 接着声明数据X,Y\n",
    "* 占位符和变量\n",
    "\n",
    "注意 不同的是，这里需要改变占位符的形状，第一个维度为None，第二个维度是批量训练中的数据量。</p>\n",
    "我们能显式的设置为维度20，也能设置为None。"
   ]
  },
  {
   "cell_type": "code",
   "execution_count": 486,
   "metadata": {},
   "outputs": [],
   "source": [
    "x = np.random.normal(1, 0.1, 100)\n",
    "y = np.repeat(10.,100)\n",
    "x_data = tf.placeholder(shape=[None,1],dtype=tf.float32)\n",
    "y_taget = tf.placeholder(shape=[None,1],dtype=tf.float32)\n",
    "A = tf.Variable(tf.random_normal(shape=[1,1]))"
   ]
  },
  {
   "cell_type": "markdown",
   "metadata": {},
   "source": [
    "现在在矩阵中加入乘法\n",
    "注意矩阵的乘法与不满足交换率，所以顺序一定要正确。"
   ]
  },
  {
   "cell_type": "code",
   "execution_count": 451,
   "metadata": {},
   "outputs": [],
   "source": [
    "output = tf.matmul(x_data,A)"
   ]
  },
  {
   "cell_type": "markdown",
   "metadata": {},
   "source": [
    "改变损失函数，因为批量训练是的损失函数是每个数据点L2损失值的平均值。调用reduce_mean即可"
   ]
  },
  {
   "cell_type": "code",
   "execution_count": 452,
   "metadata": {},
   "outputs": [],
   "source": [
    "loss = tf.reduce_mean(tf.square(output-y_taget))"
   ]
  },
  {
   "cell_type": "markdown",
   "metadata": {},
   "source": [
    "声明优化器"
   ]
  },
  {
   "cell_type": "code",
   "execution_count": 453,
   "metadata": {},
   "outputs": [],
   "source": [
    "opt = tf.train.GradientDescentOptimizer(learning_rate=0.02)\n",
    "train_step = opt.minimize(loss)"
   ]
  },
  {
   "cell_type": "markdown",
   "metadata": {},
   "source": [
    "初始化"
   ]
  },
  {
   "cell_type": "code",
   "execution_count": 454,
   "metadata": {},
   "outputs": [],
   "source": [
    "init = tf.initialize_all_variables()\n",
    "sess.run(init)"
   ]
  },
  {
   "cell_type": "markdown",
   "metadata": {},
   "source": [
    "随机批量训练数据"
   ]
  },
  {
   "cell_type": "code",
   "execution_count": 455,
   "metadata": {},
   "outputs": [
    {
     "name": "stdout",
     "output_type": "stream",
     "text": [
      "epoch:5 \t A=1.4986801\t  Loss=72.33487\n",
      "epoch:10 \t A=3.057093\t  Loss=48.5912\n",
      "epoch:15 \t A=4.3335266\t  Loss=32.07303\n",
      "epoch:20 \t A=5.3712373\t  Loss=21.875168\n",
      "epoch:25 \t A=6.2181606\t  Loss=14.929753\n",
      "epoch:30 \t A=6.9005\t  Loss=8.571302\n",
      "epoch:35 \t A=7.462985\t  Loss=7.792093\n",
      "epoch:40 \t A=7.907878\t  Loss=5.07723\n",
      "epoch:45 \t A=8.300867\t  Loss=5.2643566\n",
      "epoch:50 \t A=8.603955\t  Loss=3.4052253\n",
      "epoch:55 \t A=8.846223\t  Loss=2.0098286\n",
      "epoch:60 \t A=9.030557\t  Loss=2.3465705\n",
      "epoch:65 \t A=9.209191\t  Loss=2.2863004\n",
      "epoch:70 \t A=9.321079\t  Loss=0.9253419\n",
      "epoch:75 \t A=9.439071\t  Loss=1.0758566\n",
      "epoch:80 \t A=9.530076\t  Loss=1.0556087\n",
      "epoch:85 \t A=9.621479\t  Loss=0.7482683\n",
      "epoch:90 \t A=9.666402\t  Loss=1.9459679\n",
      "epoch:95 \t A=9.697556\t  Loss=1.3240162\n",
      "epoch:100 \t A=9.724102\t  Loss=1.1594733\n"
     ]
    }
   ],
   "source": [
    "epoch=100\n",
    "loss_bath=[]\n",
    "for i in range(epoch):\n",
    "    rand_index = np.random.choice(100, size=batch_size)\n",
    "    rand_x = np.transpose([x[rand_index]])\n",
    "    rand_y = np.transpose([y[rand_index]])\n",
    "    sess.run(train_step,feed_dict={x_data:rand_x,y_taget:rand_y})\n",
    "    if (i+1)%5 ==0:\n",
    "        train_loss =  sess.run(loss,feed_dict={x_data:rand_x,y_taget:rand_y})\n",
    "        print('epoch:{} \\t A={}\\t  Loss={}'\\\n",
    "     .format(str(i+1),str(sess.run(A)[0][0]),str(train_loss)))\n",
    "        loss_bath.append(train_loss)"
   ]
  },
  {
   "cell_type": "code",
   "execution_count": 467,
   "metadata": {},
   "outputs": [
    {
     "data": {
      "text/plain": [
       "<matplotlib.legend.Legend at 0x3785cdd8>"
      ]
     },
     "execution_count": 467,
     "metadata": {},
     "output_type": "execute_result"
    },
    {
     "data": {
      "image/png": "[encoded data removed]",
      "text/plain": [
       "<Figure size 432x288 with 1 Axes>"
      ]
     },
     "metadata": {},
     "output_type": "display_data"
    }
   ],
   "source": [
    "plt.plot(range(0,100,5),loss_bath,'b-',label='batch_loss')\n",
    "plt.plot(range(0,100,5),rand_loss,'r--',label='rand_loss')\n",
    "plt.legend(loc='upper right',prop={'size':11})"
   ]
  },
  {
   "cell_type": "markdown",
   "metadata": {},
   "source": [
    "随机训练损失更不规则，批量训练损失更为平滑\n",
    "* 随机训练：\n",
    "脱离局部最小，一般需要更多次的迭代才收敛\n",
    "* 批量训练\n",
    "快速得到最小损失，耗费更多计算资源\n"
   ]
  },
  {
   "cell_type": "markdown",
   "metadata": {},
   "source": []
  },
  {
   "cell_type": "markdown",
   "metadata": {},
   "source": [
    "# Tensorflow 实现分类器\n",
    "结合上面知识，创建一个iris数据集的分类器"
   ]
  },
  {
   "cell_type": "code",
   "execution_count": 10,
   "metadata": {},
   "outputs": [],
   "source": [
    "import matplotlib.pyplot as plt\n",
    "import numpy as np\n",
    "from sklearn import datasets\n",
    "import tensorflow as tf\n",
    "from tensorflow.python.framework import ops\n",
    "ops.reset_default_graph()\n",
    "sess = tf.Session()"
   ]
  },
  {
   "cell_type": "markdown",
   "metadata": {},
   "source": [
    "导入iris数据集<p>\n",
    "根据目标数据是否为山鸢尾将其转化成1或者0<p>\n",
    "由于iris数据集将山鸢尾标记为0，我们将其从0置为，同时其他物种标记为0<p>\n",
    "本次训练只使用两种特征：花瓣长度和花瓣宽度</p>"
   ]
  },
  {
   "cell_type": "code",
   "execution_count": 11,
   "metadata": {},
   "outputs": [],
   "source": [
    "iris = datasets.load_iris()\n",
    "binary_target = np.array([1. if x==0 else 0. for x in iris.target])\n",
    "iris_2d = np.array([[x[2], x[3]] for x in iris.data])"
   ]
  },
  {
   "cell_type": "markdown",
   "metadata": {},
   "source": [
    "声明批量训练大小、数据占位符和模型变量。<p>\n",
    "float32降低了字节数，提高了算法性能"
   ]
  },
  {
   "cell_type": "code",
   "execution_count": 12,
   "metadata": {},
   "outputs": [],
   "source": [
    "batch_size = 20\n",
    "x1_data = tf.placeholder(shape=[None, 1], dtype=tf.float32)\n",
    "x2_data = tf.placeholder(shape=[None, 1], dtype=tf.float32)\n",
    "y_target = tf.placeholder(shape=[None, 1], dtype=tf.float32)\n",
    "\n",
    "#Create variables A and b\n",
    "w = tf.Variable(tf.random_normal(shape=[1, 1]))\n",
    "b = tf.Variable(tf.random_normal(shape=[1, 1]))"
   ]
  },
  {
   "cell_type": "markdown",
   "metadata": {},
   "source": [
    "output = x1_data-(tf.matmul(x2_data,w)+b)"
   ]
  },
  {
   "cell_type": "code",
   "execution_count": 13,
   "metadata": {},
   "outputs": [],
   "source": [
    "my_mult = tf.matmul(x2_data, w)\n",
    "my_add = tf.add(my_mult, b)\n",
    "my_output = tf.subtract(x1_data, my_add)"
   ]
  },
  {
   "cell_type": "markdown",
   "metadata": {},
   "source": [
    "损失函数"
   ]
  },
  {
   "cell_type": "code",
   "execution_count": 14,
   "metadata": {},
   "outputs": [],
   "source": [
    "loss = tf.nn.sigmoid_cross_entropy_with_logits(logits=my_output,labels=y_target)"
   ]
  },
  {
   "cell_type": "markdown",
   "metadata": {},
   "source": [
    "优化器"
   ]
  },
  {
   "cell_type": "code",
   "execution_count": 15,
   "metadata": {},
   "outputs": [],
   "source": [
    "opt = tf.train.GradientDescentOptimizer(learning_rate=0.05)\n",
    "train_step = opt.minimize(loss)"
   ]
  },
  {
   "cell_type": "markdown",
   "metadata": {},
   "source": [
    "初始化变量"
   ]
  },
  {
   "cell_type": "code",
   "execution_count": 16,
   "metadata": {},
   "outputs": [],
   "source": [
    "init = tf.global_variables_initializer()\n",
    "sess.run(init)"
   ]
  },
  {
   "cell_type": "markdown",
   "metadata": {},
   "source": [
    "分批次训练"
   ]
  },
  {
   "cell_type": "code",
   "execution_count": 19,
   "metadata": {},
   "outputs": [
    {
     "name": "stdout",
     "output_type": "stream",
     "text": [
      "Step #200 A = [[10.1015]], b = [[-4.8002014]]\n",
      "Step #400 A = [[11.1385145]], b = [[-5.4480286]]\n",
      "Step #600 A = [[11.834257]], b = [[-5.9517775]]\n",
      "Step #800 A = [[12.361362]], b = [[-6.3979697]]\n",
      "Step #1000 A = [[12.825002]], b = [[-6.805455]]\n"
     ]
    }
   ],
   "source": [
    "epoch=1000\n",
    "for i in range(epoch):\n",
    "    rand_index = np.random.choice(len(iris_2d), size=batch_size)\n",
    "\n",
    "    rand_x = iris_2d[rand_index]\n",
    "    rand_x1 = np.array([[x[0]] for x in rand_x])\n",
    "    rand_x2 = np.array([[x[1]] for x in rand_x])\n",
    "\n",
    "    rand_y = np.array([[y] for y in binary_target[rand_index]])\n",
    "    sess.run(train_step, feed_dict={x1_data: rand_x1, x2_data: rand_x2, y_target: rand_y})\n",
    "    if (i+1)%200==0:\n",
    "        print('Step #' + str(i+1) + ' A = ' + str(sess.run(w)) + ', b = ' + str(sess.run(b)))\n",
    "       "
   ]
  },
  {
   "cell_type": "markdown",
   "metadata": {},
   "source": [
    "## 可视化"
   ]
  },
  {
   "cell_type": "code",
   "execution_count": 20,
   "metadata": {},
   "outputs": [
    {
     "data": {
      "image/png": "[encoded data removed]",
      "text/plain": [
       "<Figure size 432x288 with 1 Axes>"
      ]
     },
     "metadata": {},
     "output_type": "display_data"
    }
   ],
   "source": [
    "[[slope]] = sess.run(w)\n",
    "[[intercept]] = sess.run(b)\n",
    "\n",
    "# Create fitted line\n",
    "x = np.linspace(0, 3, num=50)\n",
    "ablineValues = []\n",
    "for i in x:\n",
    "  ablineValues.append(slope*i+intercept)\n",
    "\n",
    "#山鸢尾\n",
    "setosa_x = [a[1] for i,a in enumerate(iris_2d) if binary_target[i]==1]\n",
    "setosa_y = [a[0] for i,a in enumerate(iris_2d) if binary_target[i]==1]\n",
    "#其他花\n",
    "non_setosa_x = [a[1] for i,a in enumerate(iris_2d) if binary_target[i]==0]\n",
    "non_setosa_y = [a[0] for i,a in enumerate(iris_2d) if binary_target[i]==0]\n",
    "plt.plot(setosa_x, setosa_y, 'rx', ms=10, mew=2, label='setosa')\n",
    "plt.plot(non_setosa_x, non_setosa_y, 'ro', label='Non-setosa')\n",
    "plt.plot(x, ablineValues, 'b-')\n",
    "plt.xlim([0.0, 2.7])\n",
    "plt.ylim([0.0, 7.1])\n",
    "plt.suptitle('Linear Separator For I.setosa', fontsize=20)\n",
    "plt.xlabel('Petal Length')\n",
    "plt.ylabel('Petal Width')\n",
    "plt.legend(loc='lower right')\n",
    "plt.show()"
   ]
  },
  {
   "cell_type": "code",
   "execution_count": null,
   "metadata": {},
   "outputs": [],
   "source": []
  },
  {
   "cell_type": "markdown",
   "metadata": {},
   "source": [
    "# 实现对模型的评估：\n",
    "\n",
    "分割数据集，训练数据集和测试数据集即可完成"
   ]
  },
  {
   "cell_type": "code",
   "execution_count": null,
   "metadata": {},
   "outputs": [],
   "source": []
  }
 ],
 "metadata": {
  "kernelspec": {
   "display_name": "Python 3",
   "language": "python",
   "name": "python3"
  },
  "language_info": {
   "codemirror_mode": {
    "name": "ipython",
    "version": 3
   },
   "file_extension": ".py",
   "mimetype": "text/x-python",
   "name": "python",
   "nbconvert_exporter": "python",
   "pygments_lexer": "ipython3",
   "version": "3.6.5"
  }
 },
 "nbformat": 4,
 "nbformat_minor": 2
}
