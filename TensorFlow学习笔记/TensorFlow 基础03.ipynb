{
 "cells": [
  {
   "cell_type": "markdown",
   "metadata": {},
   "source": [
    "# TensorFlow的线性回归\n",
    "## 用TensorFlow求逆矩阵\n",
    "base"
   ]
  },
  {
   "cell_type": "code",
   "execution_count": 2,
   "metadata": {},
   "outputs": [],
   "source": [
    "import tensorflow as tf\n",
    "import numpy as np\n",
    "import matplotlib.pyplot as plt\n",
    "sess = tf.Session()"
   ]
  },
  {
   "cell_type": "markdown",
   "metadata": {},
   "source": [
    "初始化计算图，并生成数据和计算所需矩阵</p>\n",
    "线性公式为：$ wX=b $\n",
    "求解方式为：$ X=(w^{T}w)^{-1}w^{T}b $"
   ]
  },
  {
   "cell_type": "code",
   "execution_count": 3,
   "metadata": {},
   "outputs": [],
   "source": [
    "x = np.linspace(0, 10 ,100)\n",
    "y = x + np.random.normal(0,1,100)\n",
    "                         \n",
    "x_transpose = np.transpose(np.matrix(x))\n",
    "one_x_transpose = np.transpose(np.matrix(np.repeat(1,100)))\n",
    "w = np.column_stack((x_transpose, one_x_transpose))\n",
    "b = np.transpose(np.matrix(y))"
   ]
  },
  {
   "cell_type": "markdown",
   "metadata": {},
   "source": [
    "将w,b的矩阵转化为张量"
   ]
  },
  {
   "cell_type": "code",
   "execution_count": 4,
   "metadata": {},
   "outputs": [],
   "source": [
    "_w = tf.constant(w)\n",
    "_b = tf.constant(b)"
   ]
  },
  {
   "cell_type": "markdown",
   "metadata": {},
   "source": [
    "构建计算图模型"
   ]
  },
  {
   "cell_type": "code",
   "execution_count": 5,
   "metadata": {},
   "outputs": [],
   "source": [
    "_w_inverse = tf.matrix_inverse(tf.matmul(tf.transpose(_w),_w))\n",
    "product = tf.matmul(_w_inverse,tf.transpose(_w))\n",
    "solution = tf.matmul(product,_b)\n",
    "solution_eval = sess.run(solution)\n",
    "slope = solution_eval[0][0]\n",
    "y_intercept = solution_eval[1][0]"
   ]
  },
  {
   "cell_type": "code",
   "execution_count": null,
   "metadata": {},
   "outputs": [],
   "source": []
  },
  {
   "cell_type": "code",
   "execution_count": 6,
   "metadata": {},
   "outputs": [
    {
     "data": {
      "image/png": "[encoded data removed]",
      "text/plain": [
       "<Figure size 432x288 with 1 Axes>"
      ]
     },
     "metadata": {},
     "output_type": "display_data"
    }
   ],
   "source": [
    "best_fit = []\n",
    "for i in x:\n",
    "    best_fit.append(slope*i+y_intercept)\n",
    "plt.plot(x,y,'o',label='Data')\n",
    "plt.plot(x,best_fit,'r-',label='best fit line')\n",
    "plt.legend(loc='upper left')\n",
    "plt.show()"
   ]
  },
  {
   "cell_type": "markdown",
   "metadata": {},
   "source": [
    "## 工作原理\n",
    "\n",
    "* 这里的解决方法是通过矩阵运算直接求解结果，</p>\n",
    "* 大部分的TensoFlow算法是通过迭代训练，利用反向传播自动更新模型变量"
   ]
  },
  {
   "cell_type": "code",
   "execution_count": null,
   "metadata": {},
   "outputs": [],
   "source": []
  },
  {
   "cell_type": "markdown",
   "metadata": {},
   "source": [
    "## 用TensorFlow实现线性回归算法\n",
    "* 这里我们是用常规的批量遍历数据更新参数的方法来处理。使用的数据依然是scikit-learn提供的iris数据集。\n",
    "* 我们使用x的值代表花瓣的宽度，用y的值代表花瓣的长度。来找到最优的回归直线\n",
    "* (选择这2个维度，是因为其具有线性关系..之后的可视化中可以看到)"
   ]
  },
  {
   "cell_type": "code",
   "execution_count": 7,
   "metadata": {},
   "outputs": [],
   "source": [
    "import tensorflow as tf\n",
    "import numpy as np\n",
    "import matplotlib.pyplot as plt\n",
    "from sklearn import datasets\n",
    "#重新初始化tf\n",
    "from tensorflow.python.framework import ops\n",
    "ops.reset_default_graph()\n",
    "\n",
    "sess = tf.Session()\n",
    "\n",
    "#读数据\n",
    "iris = datasets.load_iris()\n",
    "x  = np.array([i[3] for i in iris.data])\n",
    "y  = np.array([j[0] for j in iris.data])"
   ]
  },
  {
   "cell_type": "markdown",
   "metadata": {},
   "source": [
    "声明学习率，批次大小，迭代步数,占位符和模型变量"
   ]
  },
  {
   "cell_type": "code",
   "execution_count": 8,
   "metadata": {},
   "outputs": [],
   "source": [
    "learning_rate = 0.05\n",
    "batch_size = 25\n",
    "epoch = 100\n",
    "\n",
    "x_data = tf.placeholder(shape=[None,1],dtype=tf.float32)\n",
    "y_target = tf.placeholder(shape=[None,1],dtype=tf.float32)\n",
    "_w = tf.Variable(tf.random_normal(shape=[1,1]))\n",
    "_b = tf.Variable(tf.random_normal(shape=[1,1]))"
   ]
  },
  {
   "cell_type": "markdown",
   "metadata": {},
   "source": [
    "线性模型公式： $ y=wx+b $"
   ]
  },
  {
   "cell_type": "code",
   "execution_count": 9,
   "metadata": {},
   "outputs": [],
   "source": [
    "output = tf.add(tf.matmul(x_data,_w),_b)"
   ]
  },
  {
   "cell_type": "markdown",
   "metadata": {},
   "source": [
    "L2损失函数,和梯度下降优化器"
   ]
  },
  {
   "cell_type": "code",
   "execution_count": 10,
   "metadata": {},
   "outputs": [],
   "source": [
    "loss = tf.reduce_mean(tf.square(y_target - output))\n",
    "opt = tf.train.GradientDescentOptimizer(learning_rate=learning_rate)\n",
    "train_step = opt.minimize(loss)"
   ]
  },
  {
   "cell_type": "markdown",
   "metadata": {},
   "source": [
    "初始化sess"
   ]
  },
  {
   "cell_type": "code",
   "execution_count": 11,
   "metadata": {},
   "outputs": [],
   "source": [
    "init = tf.global_variables_initializer()\n",
    "sess.run(init)"
   ]
  },
  {
   "cell_type": "markdown",
   "metadata": {},
   "source": [
    "遍历迭代,并随机选择批量数据上进行模型训练。"
   ]
  },
  {
   "cell_type": "code",
   "execution_count": 12,
   "metadata": {},
   "outputs": [
    {
     "name": "stdout",
     "output_type": "stream",
     "text": [
      "step : 25 \t w= 1.689439058303833\t b=3.464118003845215\n",
      "step : 50 \t w= 1.3455926179885864\t b=4.017512798309326\n",
      "step : 75 \t w= 1.1522843837738037\t b=4.291538715362549\n",
      "step : 100 \t w= 1.0919008255004883\t b=4.515878200531006\n"
     ]
    }
   ],
   "source": [
    "loss_L2 = []\n",
    "for i in range(epoch):\n",
    "    rand_index = np.random.choice(len(x),size=batch_size)\n",
    "    rand_x = np.transpose([x[rand_index]])\n",
    "    rand_y = np.transpose([y[rand_index]])\n",
    "    sess.run(train_step,feed_dict={x_data:rand_x,y_target:rand_y})\n",
    "    train_loss = sess.run(loss,feed_dict={x_data:rand_x,y_target:rand_y})\n",
    "    loss_L2.append(train_loss)\n",
    "    if (i+1)%25 ==0:\n",
    "        print('step : {} \\t w= {}\\t b={}'.format(i+1,sess.run(_w)[0][0],sess.run(_b)[0][0]))"
   ]
  },
  {
   "cell_type": "markdown",
   "metadata": {},
   "source": [
    "### 可视化回归曲线"
   ]
  },
  {
   "cell_type": "code",
   "execution_count": 13,
   "metadata": {},
   "outputs": [
    {
     "data": {
      "image/png": "[encoded data removed]",
      "text/plain": [
       "<Figure size 432x288 with 1 Axes>"
      ]
     },
     "metadata": {},
     "output_type": "display_data"
    }
   ],
   "source": [
    "[slope] = sess.run(_w)\n",
    "[y_intercept] = sess.run(_b)\n",
    "best_fit = []\n",
    "for i in x:\n",
    "    best_fit.append(slope*i+y_intercept)\n",
    "plt.plot(x,y,'o',label='Data')\n",
    "plt.plot(x,best_fit,'r-',label='best fit line')\n",
    "plt.legend(loc='upper left')\n",
    "plt.show()"
   ]
  },
  {
   "cell_type": "markdown",
   "metadata": {},
   "source": [
    "### 可视化Loss曲线"
   ]
  },
  {
   "cell_type": "code",
   "execution_count": 14,
   "metadata": {},
   "outputs": [
    {
     "data": {
      "text/plain": [
       "[<matplotlib.lines.Line2D at 0xf4b9cf8>]"
      ]
     },
     "execution_count": 14,
     "metadata": {},
     "output_type": "execute_result"
    },
    {
     "data": {
      "image/png": "[encoded data removed]",
      "text/plain": [
       "<Figure size 432x288 with 1 Axes>"
      ]
     },
     "metadata": {},
     "output_type": "display_data"
    }
   ],
   "source": [
    "plt.plot(loss_L2)"
   ]
  },
  {
   "cell_type": "markdown",
   "metadata": {},
   "source": [
    "可以看到Loss是有抖动的，这个抖动是与batch_size(批量大小)有关的，batch_size越大抖动越小。\n",
    "## 工作原理\n",
    "\n",
    "最优的直线并不能保证是最佳拟合的直线，最佳拟合直线的收敛依赖于迭代的次数、批量的大小、学习率及损失函数。</p>\n",
    "最好时刻观察损失函数，来帮我们定位或者超参数调整。\n",
    "### 下面我们使用L1正则，再改变batchsize来观察Loss的变化"
   ]
  },
  {
   "cell_type": "code",
   "execution_count": 15,
   "metadata": {},
   "outputs": [],
   "source": [
    "import tensorflow as tf\n",
    "import numpy as np\n",
    "import matplotlib.pyplot as plt\n",
    "from sklearn import datasets\n",
    "#重新初始化tf\n",
    "from tensorflow.python.framework import ops\n",
    "ops.reset_default_graph()\n",
    "\n",
    "sess = tf.Session()\n",
    "\n",
    "#读数据\n",
    "iris = datasets.load_iris()\n",
    "x  = np.array([i[3] for i in iris.data])\n",
    "y  = np.array([j[0] for j in iris.data])\n",
    "\n",
    "learning_rate = 0.1\n",
    "batch_size = 50\n",
    "epoch = 100\n",
    "\n",
    "x_data = tf.placeholder(shape=[None,1],dtype=tf.float32)\n",
    "y_target = tf.placeholder(shape=[None,1],dtype=tf.float32)\n",
    "_w = tf.Variable(tf.random_normal(shape=[1,1]))\n",
    "_b = tf.Variable(tf.random_normal(shape=[1,1]))\n",
    "\n",
    "output = tf.add(tf.matmul(x_data,_w),_b)"
   ]
  },
  {
   "cell_type": "markdown",
   "metadata": {},
   "source": [
    "使用L1正则Loss函数"
   ]
  },
  {
   "cell_type": "code",
   "execution_count": 16,
   "metadata": {},
   "outputs": [],
   "source": [
    "loss = tf.reduce_mean(tf.abs(y_target - output))\n",
    "opt = tf.train.GradientDescentOptimizer(learning_rate=learning_rate)\n",
    "train_step = opt.minimize(loss)"
   ]
  },
  {
   "cell_type": "code",
   "execution_count": 17,
   "metadata": {},
   "outputs": [
    {
     "name": "stdout",
     "output_type": "stream",
     "text": [
      "step : 25 \t w= 2.921955108642578\t b=1.7317848205566406\n",
      "step : 50 \t w= 2.4117555618286133\t b=2.451784133911133\n",
      "step : 75 \t w= 1.9987553358078003\t b=3.147784471511841\n",
      "step : 100 \t w= 1.5951553583145142\t b=3.7677841186523438\n"
     ]
    }
   ],
   "source": [
    "init = tf.global_variables_initializer()\n",
    "sess.run(init)\n",
    "loss_L1 = []\n",
    "for i in range(epoch):\n",
    "    rand_index = np.random.choice(len(x),size=batch_size)\n",
    "    rand_x = np.transpose([x[rand_index]])\n",
    "    rand_y = np.transpose([y[rand_index]])\n",
    "    sess.run(train_step,feed_dict={x_data:rand_x,y_target:rand_y})\n",
    "    train_loss = sess.run(loss,feed_dict={x_data:rand_x,y_target:rand_y})\n",
    "    loss_L1.append(train_loss)\n",
    "    if (i+1)%25 ==0:\n",
    "        print('step : {} \\t w= {}\\t b={}'.format(i+1,sess.run(_w)[0][0],sess.run(_b)[0][0]))"
   ]
  },
  {
   "cell_type": "code",
   "execution_count": 18,
   "metadata": {},
   "outputs": [
    {
     "data": {
      "text/plain": [
       "<matplotlib.legend.Legend at 0xf5ade48>"
      ]
     },
     "execution_count": 18,
     "metadata": {},
     "output_type": "execute_result"
    },
    {
     "data": {
      "image/png": "[encoded data removed]",
      "text/plain": [
       "<Figure size 432x288 with 1 Axes>"
      ]
     },
     "metadata": {},
     "output_type": "display_data"
    }
   ],
   "source": [
    "plt.plot(loss_L2,'k-',label='L2 Loss')\n",
    "plt.plot(loss_L1,'r--',label= 'L1 Loss')\n",
    "plt.legend(loc='upper right')"
   ]
  },
  {
   "cell_type": "code",
   "execution_count": null,
   "metadata": {},
   "outputs": [],
   "source": []
  },
  {
   "cell_type": "markdown",
   "metadata": {},
   "source": [
    "# 使用TensorFlow实现逻辑回归算法\n",
    "### 简介：\n",
    "逻辑回归算法是可以将线性回归转化为一个2值的分类器（example：0,1）再通过sigmod函数将线性回归的输出缩放到0和1之间。</p>\n",
    "目标值是0或者1代表着一个属于的是否属于某一类<p>\n",
    "导入iris数据集<p>\n",
    "根据目标数据是否为山鸢尾将其转化成1或者0<p>\n",
    "由于iris数据集将山鸢尾标记为0，我们将其从0置为，同时其他物种标记为0<p>\n",
    "所以本次训练的目的就是判断给定数据是否为山鸢花<p>\n"
   ]
  },
  {
   "cell_type": "code",
   "execution_count": 19,
   "metadata": {},
   "outputs": [],
   "source": [
    "import tensorflow as tf\n",
    "import numpy as np\n",
    "import matplotlib.pyplot as plt\n",
    "from sklearn import datasets\n",
    "from sklearn.preprocessing import normalize\n",
    "#重新初始化tf\n",
    "from tensorflow.python.framework import ops\n",
    "ops.reset_default_graph()\n",
    "\n",
    "sess = tf.Session()\n",
    "iris = datasets.load_iris()\n",
    "x = iris.data\n",
    "y = np.array([1. if x==0 else 0. for x in iris.target ])\n"
   ]
  },
  {
   "cell_type": "markdown",
   "metadata": {},
   "source": [
    "* 分割数据集\n",
    "\n",
    "将数据分为80%训练集和20%测试集"
   ]
  },
  {
   "cell_type": "code",
   "execution_count": 20,
   "metadata": {},
   "outputs": [],
   "source": [
    "train_data_index = np.random.choice(len(x),round(len(x)*0.8),replace=False)\n",
    "test_data_index = np.array(list(set(range(len(x))) - set(train_data_index)))\n",
    "\n",
    "x_train = x[train_data_index]\n",
    "x_test = x[test_data_index]\n",
    "y_train = y[train_data_index]\n",
    "y_test = y[test_data_index]"
   ]
  },
  {
   "cell_type": "markdown",
   "metadata": {},
   "source": [
    "为了是收敛效果更好，使用数据归一化操作"
   ]
  },
  {
   "cell_type": "code",
   "execution_count": 21,
   "metadata": {},
   "outputs": [],
   "source": [
    "def normalize_cols(m):\n",
    "    col_max = m.max(axis=0)\n",
    "    col_min = m.min(axis=0)\n",
    "    return (m-col_min)/ (col_max-col_min)\n",
    "\n",
    "x_train = np.nan_to_num(normalize_cols(x_train))\n",
    "x_test =  np.nan_to_num(normalize_cols(x_test))"
   ]
  },
  {
   "cell_type": "markdown",
   "metadata": {},
   "source": [
    "* 声明批量大小，占位符，变量和逻辑模型\n"
   ]
  },
  {
   "cell_type": "code",
   "execution_count": 22,
   "metadata": {},
   "outputs": [],
   "source": [
    "batch_size = 25\n",
    "x_data = tf.placeholder(shape=[None,4],dtype=tf.float32)\n",
    "y_target = tf.placeholder(shape=[None,1],dtype=tf.float32)\n",
    "w = tf.Variable(tf.random_normal(shape=[4,1]))\n",
    "b = tf.Variable(tf.random_normal(shape=[1,1]))"
   ]
  },
  {
   "cell_type": "code",
   "execution_count": 23,
   "metadata": {},
   "outputs": [],
   "source": [
    "output = tf.add(tf.matmul(x_data,w),b)"
   ]
  },
  {
   "cell_type": "code",
   "execution_count": 24,
   "metadata": {},
   "outputs": [],
   "source": [
    "loss = tf.reduce_mean(tf.nn.sigmoid_cross_entropy_with_logits(logits=output,labels=y_target))\n",
    "opt = tf.train.GradientDescentOptimizer(0.01)\n",
    "train_step = opt.minimize(loss)"
   ]
  },
  {
   "cell_type": "markdown",
   "metadata": {},
   "source": [
    "与之前不同的是，现在要记录分类器在训练集和测试集的精度</p>\n",
    "所以我们需要一个计算精度的步骤"
   ]
  },
  {
   "cell_type": "code",
   "execution_count": 25,
   "metadata": {},
   "outputs": [],
   "source": [
    "prediction = tf.round(tf.sigmoid(output))\n",
    "prediction_correct = tf.cast(tf.equal(prediction,y_target),tf.float32)\n",
    "accuracy = tf.reduce_mean(prediction_correct) "
   ]
  },
  {
   "cell_type": "code",
   "execution_count": 26,
   "metadata": {},
   "outputs": [],
   "source": [
    "init = tf.global_variables_initializer()\n",
    "sess.run(init)"
   ]
  },
  {
   "cell_type": "code",
   "execution_count": 27,
   "metadata": {},
   "outputs": [
    {
     "name": "stdout",
     "output_type": "stream",
     "text": [
      "epoch:100,train loss：1.6059755086898804，train acc：0.0，test loss：1.5247522592544556，test acc：0.0\n",
      "epoch:200,train loss：1.1492921113967896，train acc：0.0，test loss：1.1555744409561157，test acc：0.0\n",
      "epoch:300,train loss：0.8301514387130737，train acc：0.36000001430511475，test loss：0.9463024139404297，test acc：0.36666667461395264\n",
      "epoch:400,train loss：0.9153270125389099，train acc：0.6000000238418579，test loss：0.8324056267738342，test acc：0.699999988079071\n",
      "epoch:500,train loss：0.7718525528907776，train acc：0.6800000071525574，test loss：0.7549755573272705，test acc：0.7333333492279053\n",
      "epoch:600,train loss：0.8760057091712952，train acc：0.5199999809265137，test loss：0.7000093460083008，test acc：0.7333333492279053\n",
      "epoch:700,train loss：0.7936550378799438，train acc：0.5600000023841858，test loss：0.6528111696243286，test acc：0.7333333492279053\n",
      "epoch:800,train loss：0.5742414593696594，train acc：0.7599999904632568，test loss：0.6107610464096069，test acc：0.7333333492279053\n",
      "epoch:900,train loss：0.5648128986358643，train acc：0.7200000286102295，test loss：0.5745231509208679，test acc：0.7333333492279053\n",
      "epoch:1000,train loss：0.739553689956665，train acc：0.47999998927116394，test loss：0.5413265228271484，test acc：0.7333333492279053\n"
     ]
    }
   ],
   "source": [
    "epoch=1000\n",
    "train_loss_result = []\n",
    "test_loss_result = []\n",
    "train_acc_result = []\n",
    "test_acc_result = []\n",
    "for i in range(epoch):\n",
    "    rand_index = np.random.choice(len(x_train),size=batch_size)\n",
    "    rand_x = x_train[rand_index]\n",
    "    rand_y = np.transpose([y_train[rand_index]])\n",
    "    sess.run(train_step,feed_dict={x_data:rand_x,y_target:rand_y})\n",
    "   \n",
    "    train_loss = sess.run(loss,feed_dict={x_data:rand_x,y_target:rand_y})\n",
    "    train_loss_result.append(train_loss)\n",
    "    \n",
    "    train_acc = sess.run(accuracy,feed_dict={x_data:rand_x,y_target:rand_y})\n",
    "    train_acc_result.append(train_acc)    \n",
    "    \n",
    "    \n",
    "    test_loss = sess.run(loss,feed_dict={x_data:x_test,y_target:np.transpose([y_test])})\n",
    "    test_loss_result.append(test_loss)\n",
    "    \n",
    "    test_acc = sess.run(accuracy,feed_dict={x_data:x_test,y_target:np.transpose([y_test])})\n",
    "    test_acc_result.append(test_acc)  \n",
    "    \n",
    "    if (i+1)% 100 ==0:\n",
    "        print('epoch:{},train loss：{}，train acc：{}，test loss：{}，test acc：{}'.format(i+1,train_loss,train_acc,test_loss,test_acc))"
   ]
  },
  {
   "cell_type": "code",
   "execution_count": null,
   "metadata": {},
   "outputs": [],
   "source": [
    "### 可视化Loss曲线"
   ]
  },
  {
   "cell_type": "code",
   "execution_count": 29,
   "metadata": {},
   "outputs": [
    {
     "data": {
      "text/plain": [
       "Text(0.5,0,'generation')"
      ]
     },
     "execution_count": 29,
     "metadata": {},
     "output_type": "execute_result"
    },
    {
     "data": {
      "image/png": "[encoded data removed]",
      "text/plain": [
       "<Figure size 432x288 with 1 Axes>"
      ]
     },
     "metadata": {},
     "output_type": "display_data"
    }
   ],
   "source": [
    "plt.plot(train_loss_result,'k-',label='train loss')\n",
    "plt.plot(test_loss_result,'r--',label='test loss')\n",
    "plt.legend(loc='upper right')\n",
    "plt.title('cross entropy loss per generation')\n",
    "plt.ylabel('cross entropy loss')\n",
    "plt.xlabel('generation')"
   ]
  },
  {
   "cell_type": "code",
   "execution_count": 30,
   "metadata": {},
   "outputs": [
    {
     "data": {
      "text/plain": [
       "Text(0.5,0,'generation')"
      ]
     },
     "execution_count": 30,
     "metadata": {},
     "output_type": "execute_result"
    },
    {
     "data": {
      "image/png": "[encoded data removed]",
      "text/plain": [
       "<Figure size 432x288 with 1 Axes>"
      ]
     },
     "metadata": {},
     "output_type": "display_data"
    }
   ],
   "source": [
    "plt.plot(train_acc_result,'k-',label='train accuracy')\n",
    "plt.plot(test_acc_result,'r--',label='test accuracy')\n",
    "plt.legend(loc='upper right')\n",
    "plt.title('cross entropy loss per generation')\n",
    "plt.ylabel('accuracy')\n",
    "plt.xlabel('generation')"
   ]
  },
  {
   "cell_type": "code",
   "execution_count": null,
   "metadata": {},
   "outputs": [],
   "source": []
  }
 ],
 "metadata": {
  "kernelspec": {
   "display_name": "Python 3",
   "language": "python",
   "name": "python3"
  },
  "language_info": {
   "codemirror_mode": {
    "name": "ipython",
    "version": 3
   },
   "file_extension": ".py",
   "mimetype": "text/x-python",
   "name": "python",
   "nbconvert_exporter": "python",
   "pygments_lexer": "ipython3",
   "version": "3.6.5"
  }
 },
 "nbformat": 4,
 "nbformat_minor": 2
}
